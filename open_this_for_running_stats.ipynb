{
 "cells": [
  {
   "cell_type": "code",
   "execution_count": null,
   "id": "4bfdfc0d-c4ba-4c53-aef6-e0f231c44fef",
   "metadata": {
    "vscode": {
     "languageId": "r"
    }
   },
   "outputs": [],
   "source": [
    "library(dplyr)\n",
    "# For r2\n",
    "library(performance)\n",
    "# For bootstrap confidence intervals\n",
    "library(nlme)\n",
    "library(lme4)\n",
    "# For model comparison\n",
    "library(MuMIn)\n",
    "# For get preditions\n",
    "library(modelr)\n",
    "# For rendering tables\n",
    "library(reactablefmtr)\n",
    "library(ggplot2)\n",
    "# For effect sizes\n",
    "library(effectsize)\n",
    "library(emmeans)"
   ]
  },
  {
   "cell_type": "code",
   "execution_count": null,
   "id": "d92c8bcf",
   "metadata": {
    "vscode": {
     "languageId": "r"
    }
   },
   "outputs": [],
   "source": [
    "# Load dataset for adding predictions\n",
    "source(\"./scripts/code_join_data_full_dataset.R\")"
   ]
  },
  {
   "cell_type": "code",
   "execution_count": null,
   "id": "e1955ed4",
   "metadata": {
    "vscode": {
     "languageId": "r"
    }
   },
   "outputs": [],
   "source": [
    "# Load functions\n",
    "\n",
    "## Inference\n",
    "source(\"./R/function_for_inference_anova_table.R\")\n",
    "source(\"./R/function_for_inference_tukey_tables.R\")\n",
    "source(\"./R/function_for_inference_emmeans_and_percentage_diff.R\")\n",
    "\n",
    "## Plots\n",
    "source(\"./R/function_masomenos_plots.R\")"
   ]
  },
  {
   "cell_type": "markdown",
   "id": "85901509",
   "metadata": {},
   "source": [
    "__Q1: What is the relative influence of water and/or nutrient availability on\n",
    "tropical dry forest seedling growth and biomass allocation__"
   ]
  },
  {
   "cell_type": "markdown",
   "id": "74d4ce96",
   "metadata": {},
   "source": [
    "# Load models"
   ]
  },
  {
   "cell_type": "code",
   "execution_count": null,
   "id": "e67ac186",
   "metadata": {
    "vscode": {
     "languageId": "r"
    }
   },
   "outputs": [],
   "source": [
    "models_q1 <- readRDS(\"./processed_data/models_q1.RData\")"
   ]
  },
  {
   "cell_type": "code",
   "execution_count": null,
   "id": "35f43501",
   "metadata": {
    "vscode": {
     "languageId": "r"
    }
   },
   "outputs": [],
   "source": [
    "# Model available\n",
    "names(models_q1)"
   ]
  },
  {
   "cell_type": "code",
   "execution_count": null,
   "id": "807ea2f9",
   "metadata": {
    "vscode": {
     "languageId": "r"
    }
   },
   "outputs": [],
   "source": [
    "# Step done for getting predictions from models for Q1\n",
    "data_for_predictions <-\n",
    "    data_for_models %>%\n",
    "\n",
    "        rownames_to_column(\"id\") %>%\n",
    "\n",
    "        # Remove unused variables\n",
    "        dplyr::select(id, spcode, treatment, nfixer, init_height)"
   ]
  },
  {
   "cell_type": "markdown",
   "id": "b1c0392b",
   "metadata": {},
   "source": [
    "# ANOVAs"
   ]
  },
  {
   "cell_type": "markdown",
   "id": "f9ad1601",
   "metadata": {},
   "source": [
    "All models show a significant two-way interaction between Nfixer and Treatment"
   ]
  },
  {
   "cell_type": "code",
   "execution_count": null,
   "id": "70b9240a",
   "metadata": {
    "vscode": {
     "languageId": "r"
    }
   },
   "outputs": [],
   "source": [
    "models_q1 %>%\n",
    "\n",
    "    # Remove traits and mass fractions models\n",
    "    purrr::list_modify(\"agr_log\" = NULL, \"agr\" = NULL) %>%\n",
    "    anova_table_tidy(., model_list = T)"
   ]
  },
  {
   "cell_type": "markdown",
   "id": "fbb7c855",
   "metadata": {},
   "source": [
    "# Post-Hoc\n",
    "\n",
    "The main argument of the paper is:\n",
    "\n",
    "_Results from our shade house experiment show that nutrient addition had a\n",
    "stronger effect on tropical dry forest seedling biomass and growth than water\n",
    "addition. Moreover, we demonstrate that N-fixing species have a higher capacity\n",
    "to take advantage of increased resource availability, particularly for nutrients,\n",
    "and to a lesser degree water..._\n",
    "\n",
    "\n",
    "__however I think this is not true since there are not significant differences\n",
    "when the same treatment are compared (i.e. plus nutrients nfixer vrs plus nutrients non-nfixer)__"
   ]
  },
  {
   "cell_type": "markdown",
   "id": "4e47cad0",
   "metadata": {},
   "source": [
    "## Total Biomass"
   ]
  },
  {
   "cell_type": "markdown",
   "id": "d2ed6e04",
   "metadata": {},
   "source": [
    "### How I reported in the paper"
   ]
  },
  {
   "cell_type": "code",
   "execution_count": null,
   "id": "910c6a09",
   "metadata": {
    "vscode": {
     "languageId": "r"
    }
   },
   "outputs": [],
   "source": [
    "as_data_frame(emmeans(models_q1$total_biomass,\n",
    "        pairwise ~ treatment|nfixer,\n",
    "        adjust = \"tukey\"\n",
    "        )$contrast)  %>%\n",
    "        select(-c(df, SE)) %>%\n",
    "        reactable()"
   ]
  },
  {
   "cell_type": "markdown",
   "id": "1d4604ef",
   "metadata": {},
   "source": [
    "### How it should be done"
   ]
  },
  {
   "cell_type": "code",
   "execution_count": null,
   "id": "091d96eb",
   "metadata": {
    "vscode": {
     "languageId": "r"
    }
   },
   "outputs": [],
   "source": [
    "as_data_frame(emmeans(models_q1$total_biomass,\n",
    "        pairwise ~ treatment*nfixer,\n",
    "        adjust = \"tukey\"\n",
    "        )$contrast)  %>%\n",
    "        select(-c(df, SE)) %>%\n",
    "        reactable()\n"
   ]
  },
  {
   "cell_type": "markdown",
   "id": "53f7bbaa",
   "metadata": {},
   "source": [
    "### Percentage of Change"
   ]
  },
  {
   "cell_type": "code",
   "execution_count": null,
   "id": "18aabc63",
   "metadata": {
    "vscode": {
     "languageId": "r"
    }
   },
   "outputs": [],
   "source": [
    "emmeans_table_tidy(models_q1$total_biomass,\n",
    "                        formula = \"treatment|nfixer\",\n",
    "                        grouping_var = \"nfixer\")"
   ]
  },
  {
   "cell_type": "markdown",
   "id": "116c32ae",
   "metadata": {},
   "source": [
    "## RGR"
   ]
  },
  {
   "cell_type": "markdown",
   "id": "4500738c",
   "metadata": {},
   "source": [
    "### How I reported in the paper"
   ]
  },
  {
   "cell_type": "code",
   "execution_count": null,
   "id": "a2bb852f",
   "metadata": {
    "vscode": {
     "languageId": "r"
    }
   },
   "outputs": [],
   "source": [
    "as_data_frame(emmeans(models_q1$rgr,\n",
    "        pairwise ~ treatment|nfixer,\n",
    "        adjust = \"tukey\"\n",
    "        )$contrast)  %>%\n",
    "        select(-c(df, SE)) %>%\n",
    "        reactable()"
   ]
  },
  {
   "cell_type": "markdown",
   "id": "0d235454",
   "metadata": {},
   "source": [
    "### How it should be done"
   ]
  },
  {
   "cell_type": "code",
   "execution_count": null,
   "id": "749068a0",
   "metadata": {
    "vscode": {
     "languageId": "r"
    }
   },
   "outputs": [],
   "source": [
    "as_data_frame(emmeans(models_q1$rgr,\n",
    "        pairwise ~ treatment*nfixer,\n",
    "        adjust = \"tukey\"\n",
    "        )$contrast) %>%\n",
    "        select(-c(df, SE)) %>%\n",
    "        reactable()"
   ]
  },
  {
   "cell_type": "markdown",
   "id": "0263aef2",
   "metadata": {},
   "source": [
    "### Percentage of Change"
   ]
  },
  {
   "cell_type": "code",
   "execution_count": null,
   "id": "00f864e4",
   "metadata": {
    "vscode": {
     "languageId": "r"
    }
   },
   "outputs": [],
   "source": [
    "emmeans_table_tidy(models_q1$rgr,\n",
    "                        formula = \"treatment|nfixer\",\n",
    "                        grouping_var = \"nfixer\")"
   ]
  },
  {
   "cell_type": "markdown",
   "id": "c077c2cc",
   "metadata": {},
   "source": [
    "## Root shoot ratio"
   ]
  },
  {
   "cell_type": "markdown",
   "id": "760851b5",
   "metadata": {},
   "source": [
    "### How I reported in the paper"
   ]
  },
  {
   "cell_type": "code",
   "execution_count": null,
   "id": "9804d573",
   "metadata": {
    "vscode": {
     "languageId": "r"
    }
   },
   "outputs": [],
   "source": [
    "as_data_frame(emmeans(models_q1$root_shoot_ratio_log,\n",
    "        pairwise ~ treatment|nfixer,\n",
    "        adjust = \"tukey\"\n",
    "        )$contrast)  %>%\n",
    "        select(-c(df, SE)) %>%\n",
    "        reactable()"
   ]
  },
  {
   "cell_type": "markdown",
   "id": "a94c0fdf",
   "metadata": {},
   "source": [
    "### How it should be done"
   ]
  },
  {
   "cell_type": "code",
   "execution_count": null,
   "id": "0858a1b0",
   "metadata": {
    "vscode": {
     "languageId": "r"
    }
   },
   "outputs": [],
   "source": [
    "as_data_frame(emmeans(models_q1$root_shoot_ratio_log,\n",
    "        pairwise ~ treatment*nfixer,\n",
    "        adjust = \"tukey\"\n",
    "        )$contrast)  %>%\n",
    "        select(-c(df, SE)) %>%\n",
    "        reactable()"
   ]
  },
  {
   "cell_type": "markdown",
   "id": "77b9f86c",
   "metadata": {},
   "source": [
    "## Percentage of Change"
   ]
  },
  {
   "cell_type": "code",
   "execution_count": null,
   "id": "04942b99",
   "metadata": {
    "vscode": {
     "languageId": "r"
    }
   },
   "outputs": [],
   "source": [
    "emmeans_table_tidy(models_q1$root_shoot_ratio_log,\n",
    "                        formula = \"treatment|nfixer\",\n",
    "                        grouping_var = \"nfixer\")"
   ]
  },
  {
   "cell_type": "markdown",
   "id": "852b4200",
   "metadata": {},
   "source": [
    "# Plots Biomass and growth boxplot"
   ]
  },
  {
   "cell_type": "code",
   "execution_count": null,
   "id": "a928320c",
   "metadata": {
    "vscode": {
     "languageId": "r"
    }
   },
   "outputs": [],
   "source": [
    "# Get predictions\n",
    "string <- c(\"models_q1\")\n",
    "\n",
    "data_pred_biomass_growth <-\n",
    "\n",
    "        # Get models prediction\n",
    "        gather_predictions(data_for_predictions,\n",
    "\n",
    "                           # Return predictions of:\n",
    "                            models_q1$rgr,\n",
    "                            models_q1$total_biomass,\n",
    "                            models_q1$root_shoot_ratio_log)  %>%\n",
    "\n",
    "            # Get fitted values\n",
    "            pivot_wider(names_from = model, values_from = pred) %>%\n",
    "             rename_all(\n",
    "              funs(\n",
    "\n",
    "                # rename columns\n",
    "                stringr::str_to_lower(.) %>%\n",
    "\n",
    "                # Remove string from name and replace it with pred_\n",
    "                stringr::str_replace(., c(string), \"pred_\") %>%\n",
    "\n",
    "                # Remove dollar sing\n",
    "                gsub(\"\\\\$\", \"\", .))) %>%\n",
    "\n",
    "\n",
    "        # Back transform log variables\n",
    "        mutate(pred_root_shoot_ratio = exp(pred_root_shoot_ratio_log)) %>%\n",
    "\n",
    "        # Select only pred variables\n",
    "        dplyr::select(-c(init_height, pred_root_shoot_ratio_log))"
   ]
  },
  {
   "cell_type": "code",
   "execution_count": null,
   "id": "d652d8fc",
   "metadata": {
    "vscode": {
     "languageId": "r"
    }
   },
   "outputs": [],
   "source": [
    "# Generate plot combinations\n",
    "vars_q1 <-\n",
    "  crossing(\n",
    "\n",
    "    # Get all numeric variables to plot (all y)\n",
    "    as_tibble(t(combn(dplyr::select(data_pred_biomass_growth, where(is.numeric)) %>% names, 1))),\n",
    "\n",
    "    # Select factor variables to plot\n",
    "    x_axis_var = dplyr::select(data_pred_biomass_growth, nfixer) %>%  names,\n",
    "    group_var = dplyr::select(data_pred_biomass_growth, treatment) %>%  names)"
   ]
  },
  {
   "cell_type": "code",
   "execution_count": null,
   "id": "e7d8aea1",
   "metadata": {
    "vscode": {
     "languageId": "r"
    }
   },
   "outputs": [],
   "source": [
    "par(mfrow = c(2,2))\n",
    "vars_q1 %>%\n",
    "      # Gererate plots\n",
    "      pmap( ~boxplot_plot_pmap(data = data_pred_biomass_growth,\n",
    "                                y = !!sym(..1), x = !!sym(..2),\n",
    "                                fill = !!sym(..3)))"
   ]
  },
  {
   "cell_type": "markdown",
   "id": "c143a75d",
   "metadata": {},
   "source": [
    "## r2 models"
   ]
  },
  {
   "cell_type": "code",
   "execution_count": null,
   "id": "54d681ea",
   "metadata": {
    "vscode": {
     "languageId": "r"
    }
   },
   "outputs": [],
   "source": [
    "models_q1 %>%\n",
    "\n",
    "    # Remove traits and mass fractions models\n",
    "    purrr::list_modify(\"agr_log\" = NULL, \"agr\" = NULL) %>%\n",
    "\n",
    "    map(., r2) %>%\n",
    "    unlist()"
   ]
  }
 ],
 "metadata": {
  "kernelspec": {
   "display_name": "R",
   "language": "R",
   "name": "ir"
  },
  "language_info": {
   "codemirror_mode": "r",
   "file_extension": ".r",
   "mimetype": "text/x-r-source",
   "name": "R",
   "pygments_lexer": "r",
   "version": "4.2.1"
  }
 },
 "nbformat": 4,
 "nbformat_minor": 5
}
